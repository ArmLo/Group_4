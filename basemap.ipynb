{
 "cells": [
  {
   "cell_type": "code",
   "execution_count": 19,
   "metadata": {
    "collapsed": false
   },
   "outputs": [
    {
     "data": {
      "image/png": "[encoded data removed]",
      "text/plain": [
       "<matplotlib.figure.Figure at 0x5c806a0>"
      ]
     },
     "metadata": {},
     "output_type": "display_data"
    }
   ],
   "source": [
    "from netCDF4 import Dataset, num2date, date2num\n",
    "from numpy import *\n",
    "import matplotlib.pyplot as plt\n",
    "%matplotlib inline\n",
    "import numpy as np\n",
    "\n",
    "from mpl_toolkits.basemap import Basemap\n",
    "\n",
    "from __future__ import print_function\n",
    "from ipywidgets import interact, interactive, fixed\n",
    "import ipywidgets as widgets\n",
    "\n",
    "def sh(year='2013', var='air', time=0):\n",
    "    f = Dataset(var+'.sig995.'+year+'.nc')\n",
    "    vv = f.variables[var]\n",
    "    tt = f.variables['time']\n",
    "    dd = num2date(tt[time], tt.units)\n",
    "    imshow(vv[time,:,:])\n",
    "\n",
    "# setup Lambert Conformal basemap.\n",
    "m = Basemap(projection='merc', resolution='c',llcrnrlat=-35, llcrnrlon=-150, urcrnrlat=-5, urcrnrlon=-68) \n",
    "m.drawcoastlines()\n",
    "m.drawcountries()\n",
    "m.drawmapboundary(fill_color='1.0')\n",
    "\n",
    "m.fillcontinents(color='0.8',lake_color='0.5')\n",
    "parallels = np.arange(-80.,0,5.)\n",
    "\n",
    "m.drawparallels(parallels,labels=[False,True,True,False])\n",
    "meridians = np.arange(10.,351.,20.)\n",
    "m.drawmeridians(meridians,labels=[True,False,False,True])\n",
    "\n",
    "\n",
    "    \n",
    "plt.show()"
   ]
  },
  {
   "cell_type": "code",
   "execution_count": null,
   "metadata": {
    "collapsed": true
   },
   "outputs": [],
   "source": []
  }
 ],
 "metadata": {
  "kernelspec": {
   "display_name": "Python 3",
   "language": "python",
   "name": "python3"
  },
  "language_info": {
   "codemirror_mode": {
    "name": "ipython",
    "version": 3
   },
   "file_extension": ".py",
   "mimetype": "text/x-python",
   "name": "python",
   "nbconvert_exporter": "python",
   "pygments_lexer": "ipython3",
   "version": "3.5.1"
  }
 },
 "nbformat": 4,
 "nbformat_minor": 0
}
