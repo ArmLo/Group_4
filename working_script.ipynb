{
 "cells": [
  {
   "cell_type": "code",
   "execution_count": 3,
   "metadata": {
    "collapsed": true
   },
   "outputs": [],
   "source": [
    "from netCDF4 import Dataset, num2date, date2num\n",
    "from numpy import *\n",
    "import matplotlib.pyplot as plt\n",
    "%matplotlib inline\n",
    "import numpy as np\n",
    "\n",
    "from mpl_toolkits.basemap import Basemap\n",
    "\n",
    "from ipywidgets import interact, interactive, fixed\n",
    "import ipywidgets as widgets"
   ]
  },
  {
   "cell_type": "code",
   "execution_count": 4,
   "metadata": {
    "collapsed": true
   },
   "outputs": [],
   "source": [
    "def sh(year='2013', var='air', time=0):\n",
    "    f = Dataset(var+'.sig995.'+year+'.nc')\n",
    "    vv = f.variables[var]\n",
    "    tt = f.variables['time']\n",
    "    dd = num2date(tt[time], tt.units)\n",
    "    m.drawparallels(arange(-80.,81.,20.))\n",
    "    m.drawmeridians(arange(-180.,181.,20.))\n",
    "    m.drawmapboundary(fill_color='white')\n",
    "    m.drawcoastlines()\n",
    "    m.drawcountries()\n",
    "    cs = m.pcolor(x,y,vv[time,:,:])\n",
    "    return vv[time,:,:]"
   ]
  },
  {
   "cell_type": "code",
   "execution_count": 7,
   "metadata": {
    "collapsed": true
   },
   "outputs": [],
   "source": [
    "#f = Dataset('air.sig995.2013.nc')\n",
    "#vv=f.variables['air']"
   ]
  },
  {
   "cell_type": "code",
   "execution_count": 9,
   "metadata": {
    "collapsed": false
   },
   "outputs": [],
   "source": [
    "m = Basemap(width=10000000,height=4000000,resolution='l',projection='stere', lon_0=-110,lat_0=-20, area_thresh=1000)\n",
    "lon = f.variables['lon'][:]\n",
    "lat = f.variables['lat'][:]\n",
    "lon, lat = meshgrid(lon, lat)\n",
    "x, y = m(lon, lat)"
   ]
  },
  {
   "cell_type": "code",
   "execution_count": 10,
   "metadata": {
    "collapsed": true
   },
   "outputs": [],
   "source": [
    "variabs = ['air','uwnd','vwnd','rhum']\n",
    "years = [str(x) for x in range(2013,2016)]"
   ]
  },
  {
   "cell_type": "code",
   "execution_count": 12,
   "metadata": {
    "collapsed": false
   },
   "outputs": [
    {
     "data": {
      "text/plain": [
       "array([[ 91.75,  91.75,  91.75, ...,  91.75,  91.75,  91.75],\n",
       "       [ 62.5 ,  59.  ,  55.25, ...,  72.25,  69.25,  66.  ],\n",
       "       [ 81.5 ,  81.25,  80.75, ...,  83.25,  82.5 ,  82.  ],\n",
       "       ..., \n",
       "       [ 75.5 ,  80.  ,  84.75, ...,  61.25,  65.5 ,  70.25],\n",
       "       [ 81.25,  81.5 ,  82.  , ...,  80.  ,  80.  ,  80.75],\n",
       "       [ 84.75,  84.75,  84.75, ...,  84.75,  84.75,  84.75]], dtype=float32)"
      ]
     },
     "metadata": {},
     "output_type": "display_data"
    },
    {
     "data": {
      "image/png": "[encoded data removed]",
      "text/plain": [
       "<matplotlib.figure.Figure at 0x8aefb00>"
      ]
     },
     "metadata": {},
     "output_type": "display_data"
    }
   ],
   "source": [
    "var= sh()\n",
    "interact(sh,time=(0,355,1), var=variabs, year=years)\n",
    "plt.show()"
   ]
  },
  {
   "cell_type": "code",
   "execution_count": null,
   "metadata": {
    "collapsed": true
   },
   "outputs": [],
   "source": []
  }
 ],
 "metadata": {
  "kernelspec": {
   "display_name": "Python 3",
   "language": "python",
   "name": "python3"
  },
  "language_info": {
   "codemirror_mode": {
    "name": "ipython",
    "version": 3
   },
   "file_extension": ".py",
   "mimetype": "text/x-python",
   "name": "python",
   "nbconvert_exporter": "python",
   "pygments_lexer": "ipython3",
   "version": "3.5.1"
  }
 },
 "nbformat": 4,
 "nbformat_minor": 0
}
